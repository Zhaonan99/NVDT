{
 "cells": [
  {
   "cell_type": "code",
   "execution_count": 18,
   "metadata": {},
   "outputs": [],
   "source": [
    "import numpy as np\n",
    "import pandas as pd\n",
    "from sklearn import svm\n",
    "from sklearn.model_selection import train_test_split\n",
    "from sklearn.metrics import accuracy_score\n",
    "from sklearn.exceptions import ChangedBehaviorWarning\n",
    "import seaborn as sns\n",
    "\n",
    "\n",
    "from sklearn.externals import joblib\n",
    "from sklearn.metrics import confusion_matrix\n",
    "from sklearn.metrics import roc_curve\n",
    "from sklearn.metrics import auc\n",
    "from sklearn.metrics import recall_score\n",
    "\n",
    "\n",
    "from sklearn import metrics\n",
    "from sklearn.metrics import classification_report\n",
    "from sklearn.metrics import cohen_kappa_score\n",
    "from sklearn.metrics import roc_auc_score\n",
    "from sklearn.model_selection import train_test_split\n",
    "from sklearn.neighbors import KNeighborsClassifier\n",
    "from sklearn.ensemble import RandomForestClassifier\n",
    "from sklearn.metrics import cohen_kappa_score\n",
    "from joblib import dump, load"
   ]
  },
  {
   "cell_type": "code",
   "execution_count": 19,
   "metadata": {},
   "outputs": [],
   "source": [
    "excel_path=\"M.musculus_Real_RFInput.xlsx\"\n",
    "train_input51=pd.read_excel(excel_path,index_col=None,sheet_name= 'train_feature')\n",
    "train_label51=pd.read_excel(excel_path,index_col=None,sheet_name= 'train_label')\n",
    "test_input51=pd.read_excel(excel_path,index_col=None,sheet_name= 'test_feature')\n",
    "test_label51=pd.read_excel(excel_path,index_col=None,sheet_name= 'test_label')"
   ]
  },
  {
   "cell_type": "code",
   "execution_count": 1,
   "metadata": {},
   "outputs": [],
   "source": [
    "clfmodel= RandomForestClassifier(n_estimators=72, min_samples_split=2, random_state=0)\n",
    "clfmodel.fit(train_input51,train_label51)\n",
    "acc_traindataset=clfmodel.score(train_input51,train_label51)\n",
    "acc_testdataset=accuracy_score(test_label51,clfmodel.predict(test_input51))\n",
    "print('Training dataset accuracy:',clfmodel.score(train_input51,train_label51))# print the accuracy of train\n",
    "print('Testing dataset accuracy:',accuracy_score(test_label51,clfmodel.predict(test_input51)))# print the accuracy of test\n",
    "dump(clfmodel, 'Model_RandomForestClassifier.joblib')"
   ]
  },
  {
   "cell_type": "code",
   "execution_count": 2,
   "metadata": {},
   "outputs": [],
   "source": [
    "import math\n",
    "test_predict_label=clfmodel.predict(test_input51)\n",
    "tn, fp, fn, tp = confusion_matrix(test_label51,test_predict_label, labels=[0,1]).ravel()\n",
    "false_positive_rate, true_positive_rate, thresholds = roc_curve(test_label51, test_predict_label)\n",
    "ACC=accuracy_score(test_label51,test_predict_label)\n",
    "Precision=float(tp/(tp+fp))\n",
    "Sensitivity=float(tp/(tp+fn))\n",
    "Specifity=float(tn/(tn+fp))\n",
    "MCC=float((tp*tn-fp*fn)/(math.sqrt((tp+fn)*(tn+fp)*(tp+fp)*(tn+fn))))\n",
    "F_score=float((2*Precision*Sensitivity)/(Precision+Sensitivity))\n",
    "AUC=auc(false_positive_rate, true_positive_rate) \n",
    "print(AUC)\n",
    "ROC_AUC_score=roc_auc_score(test_label51,test_predict_label)\n",
    "print(ROC_AUC_score)\n",
    "number0=[tn,fp,fn,tp,ACC,Precision,Sensitivity,Specifity,MCC,F_score,AUC,ROC_AUC_score]\n",
    "print(number0)\n",
    "\n",
    "###Save the index value into the document\n",
    "import csv\n",
    "f=open('Testing_dataset_prediction_index.csv','w',encoding='utf-8')\n",
    "csv_writer = csv.writer(f)\n",
    "csv_writer.writerow([\"TN\",\"FP\",\"FN\",\"TP\",\"ACC\",\"Precision\",\"Sensitivity\",\"Specifity\",\"MCC\",\"F_score\",\"AUC\",\"ROC_AUC_score\"])\n",
    "csv_writer.writerow(number0)\n",
    "f.close()"
   ]
  },
  {
   "cell_type": "code",
   "execution_count": null,
   "metadata": {},
   "outputs": [],
   "source": []
  }
 ],
 "metadata": {
  "kernelspec": {
   "display_name": "Python 3",
   "language": "python",
   "name": "python3"
  },
  "language_info": {
   "codemirror_mode": {
    "name": "ipython",
    "version": 3
   },
   "file_extension": ".py",
   "mimetype": "text/x-python",
   "name": "python",
   "nbconvert_exporter": "python",
   "pygments_lexer": "ipython3",
   "version": "3.7.0"
  }
 },
 "nbformat": 4,
 "nbformat_minor": 2
}
